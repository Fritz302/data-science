{
  "nbformat": 4,
  "nbformat_minor": 0,
  "metadata": {
    "colab": {
      "provenance": [],
      "authorship_tag": "ABX9TyMK8Z+KBfG72rtzTJrZgaXi",
      "include_colab_link": true
    },
    "kernelspec": {
      "name": "python3",
      "display_name": "Python 3"
    },
    "language_info": {
      "name": "python"
    }
  },
  "cells": [
    {
      "cell_type": "markdown",
      "metadata": {
        "id": "view-in-github",
        "colab_type": "text"
      },
      "source": [
        "<a href=\"https://colab.research.google.com/github/Fritz302/data-science/blob/main/LebronPERStats.ipynb\" target=\"_parent\"><img src=\"https://colab.research.google.com/assets/colab-badge.svg\" alt=\"Open In Colab\"/></a>"
      ]
    },
    {
      "cell_type": "markdown",
      "source": [
        "18.3\n",
        "\n",
        "25.7\n",
        "\n",
        "28.1\n",
        "\n",
        "24.5\n",
        "\n",
        "29.1\n",
        "\n",
        "31.7\n",
        "\n",
        "31.1\n",
        "\n",
        "27.3\n",
        "\n",
        "30.7\n",
        "\n",
        "31.6\n",
        "\n",
        "29.3\n",
        "\n",
        "25.9\n",
        "\n",
        "27.5\n",
        "\n",
        "27\n",
        "\n",
        "28.6\n",
        "\n",
        "25.6\n",
        "\n",
        "25.5\n",
        "\n",
        "24.2\n",
        "\n",
        "26.1\n",
        "\n",
        "23.8\n",
        "\n",
        "23.7"
      ],
      "metadata": {
        "id": "f4a9qMjdkX8q"
      }
    }
  ]
}
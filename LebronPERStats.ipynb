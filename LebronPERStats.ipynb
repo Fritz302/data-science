{
  "nbformat": 4,
  "nbformat_minor": 0,
  "metadata": {
    "colab": {
      "provenance": [],
      "authorship_tag": "ABX9TyPFcyIYcngK3MLiZfUT+g67",
      "include_colab_link": true
    },
    "kernelspec": {
      "name": "python3",
      "display_name": "Python 3"
    },
    "language_info": {
      "name": "python"
    }
  },
  "cells": [
    {
      "cell_type": "markdown",
      "metadata": {
        "id": "view-in-github",
        "colab_type": "text"
      },
      "source": [
        "<a href=\"https://colab.research.google.com/github/Fritz302/data-science/blob/main/LebronPERStats.ipynb\" target=\"_parent\"><img src=\"https://colab.research.google.com/assets/colab-badge.svg\" alt=\"Open In Colab\"/></a>"
      ]
    },
    {
      "cell_type": "markdown",
      "source": [
        "18.3\n",
        "25.7\n",
        "28.1\n",
        "24.5\n",
        "29.1\n",
        "31.7\n",
        "31.1\n",
        "27.3\n",
        "30.7\n",
        "31.6\n",
        "29.3\n",
        "25.9\n",
        "27.5\n",
        "27\n",
        "28.6\n",
        "25.6\n",
        "25.5\n",
        "24.2\n",
        "26.1\n",
        "23.8\n",
        "23.7"
      ],
      "metadata": {
        "id": "f4a9qMjdkX8q"
      }
    }
  ]
}